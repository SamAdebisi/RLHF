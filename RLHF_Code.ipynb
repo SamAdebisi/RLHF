{
 "cells": [
  {
   "cell_type": "code",
   "execution_count": null,
   "metadata": {},
   "outputs": [],
   "source": [
    "import torch \n",
    "from torch.utils.data import Dataset, DataLoader, Subset \n",
    "from transformers import AutoTokenizer, AutoModelForSequenceClassification \n",
    "from datasets import load_dataset \n",
    "import random \n",
    "\n",
    "# Set random seed for reproducibility \n",
    "random.seed(42)\n",
    "torch.manual_seed(42) \n",
    "\n",
    "# Load SST-2 dataset \n",
    "dataset = load_dataset(\"sst2\") \n",
    "\n",
    "# Initialize tokenizer \n",
    "tokenizer = AutoTokenizer.from_pretrained(\"distilbert-base-uncased\") \n",
    "\n",
    "class SST2Dataset(Dataset):\n",
    "    def __init__(self, split):\n",
    "        self.data = dataset[split]\n",
    "        \n",
    "    def __len__(self):\n",
    "        return len(self.data)\n",
    "    \n",
    "    def __getitem__(self, idx):\n",
    "        text = self.data[idx][\"sentence\"]\n",
    "        label = self.data[idx][\"label\"]\n",
    "        encoding = tokenizer(text, return_tensors=\"pt\", padding=\"max_length\", \n",
    "                             truncation=True, max_length=128)"
   ]
  }
 ],
 "metadata": {
  "language_info": {
   "name": "python"
  }
 },
 "nbformat": 4,
 "nbformat_minor": 2
}
