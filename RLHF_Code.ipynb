{
 "cells": [
  {
   "cell_type": "code",
   "execution_count": null,
   "metadata": {},
   "outputs": [],
   "source": [
    "import torch \n",
    "from torch.utils.data import Dataset, DataLoader, Subset \n",
    "from transformers import AutoTokenizer, AutoModelForSequenceClassification \n",
    "from datasets import load_dataset \n",
    "import random \n",
    "\n",
    "# Set random seed for reproducibility \n",
    "random.seed(42)\n",
    "torch.manual_seed(42) \n",
    "\n",
    "# Load SST-2 dataset \n",
    "dataset = load_dataset(\"sst2\") \n",
    "\n",
    "# Initialize tokenizer \n",
    "tokenizer = AutoTokenizer.from_pretrained(\"distilbert-base-uncased\") \n",
    "\n",
    "class SST2Dataset(Dataset):\n",
    "    def __init__(self, split):\n",
    "        self.data = dataset[split]\n",
    "        \n",
    "    def __len__(self):\n",
    "        return len(self.data)\n",
    "    \n",
    "    def __getitem__(self, idx):\n",
    "        text = self.data[idx][\"sentence\"]\n",
    "        label = self.data[idx][\"label\"]\n",
    "        encoding = tokenizer(text, return_tensors=\"pt\", padding=\"max_length\", \n",
    "                             truncation=True, max_length=128)\n",
    "        return {\n",
    "            \"input_ids\": encoding[\"input_ids\"].squeeze(), \n",
    "            \"attention_mask\": encoding[\"attention_mask\"].squeeze(), \n",
    "            \"labels\": torch.tensor(label)\n",
    "        }\n",
    "        \n",
    "# Create full datasets \n",
    "full_train_dataset = SST2Dataset(\"train\")\n",
    "full_eval_dataset = SST2Dataset(\"validation\")\n",
    "\n",
    "# Randomly sample smaller subsets \n",
    "train_indices = random.sample(range(len(full_train_dataset)), 1600)\n",
    "eval_indices = random.sample(range(len(full_eval_dataset)), 32)\n",
    "\n",
    "train_dataset = Subset(full_train_dataset, train_indices)\n",
    "eval_dataset = Subset(full_eval_dataset, eval_indices)\n",
    "\n",
    "train_loader = DataLoader(train_dataset, batch_size=16, shuffle=True)\n",
    "eval_loader = DataLoader(eval_dataset, batch_size=16)"
   ]
  },
  {
   "cell_type": "code",
   "execution_count": null,
   "metadata": {},
   "outputs": [],
   "source": [
    "import torch.nn as nn \n",
    "import torch.nn.functional as F \n",
    "\n",
    "class DPOModel(nn.Module):\n",
    "    def __init__(self):\n",
    "        super().__init__()\n",
    "        self.model = AutoModelForSequenceClassification.from_pretrained(\"distilbert-base-uncased\")\n",
    "        \n",
    "    def forward(self, input_ids, attention_mask):\n",
    "        outputs = self.model(input_ids=input_ids, attention_mask=attention_mask)\n",
    "        return outputs.logits "
   ]
  },
  {
   "cell_type": "code",
   "execution_count": null,
   "metadata": {},
   "outputs": [],
   "source": []
  },
  {
   "cell_type": "code",
   "execution_count": null,
   "metadata": {},
   "outputs": [],
   "source": []
  },
  {
   "cell_type": "code",
   "execution_count": null,
   "metadata": {},
   "outputs": [],
   "source": []
  },
  {
   "cell_type": "code",
   "execution_count": null,
   "metadata": {},
   "outputs": [],
   "source": []
  },
  {
   "cell_type": "code",
   "execution_count": null,
   "metadata": {},
   "outputs": [],
   "source": []
  },
  {
   "cell_type": "code",
   "execution_count": null,
   "metadata": {},
   "outputs": [],
   "source": []
  },
  {
   "cell_type": "code",
   "execution_count": null,
   "metadata": {},
   "outputs": [],
   "source": []
  },
  {
   "cell_type": "code",
   "execution_count": null,
   "metadata": {},
   "outputs": [],
   "source": []
  }
 ],
 "metadata": {
  "language_info": {
   "name": "python"
  }
 },
 "nbformat": 4,
 "nbformat_minor": 2
}
