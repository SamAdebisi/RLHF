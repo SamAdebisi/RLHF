{
 "cells": [
  {
   "cell_type": "code",
   "execution_count": null,
   "metadata": {},
   "outputs": [],
   "source": [
    "import gym \n",
    "from gym import spaces \n",
    "import numpy as np \n",
    "import torch \n",
    "from torch.utils.data import Dataset, DataLoader, Subset \n",
    "from transformers import AutoTokenizer, AutoModelForSequenceClassification \n",
    "from datasets import load_dataset \n",
    "import random \n",
    "from stable_baselines3 import PPO \n",
    "from stable_baselines3.common.vec_env import DummyVecEnv \n",
    "from stable_baselines3.common.evaluation import evaluate_policy \n",
    "\n",
    "# Set random seed for reproducibility \n"
   ]
  }
 ],
 "metadata": {
  "language_info": {
   "name": "python"
  }
 },
 "nbformat": 4,
 "nbformat_minor": 2
}
