{
 "cells": [
  {
   "cell_type": "code",
   "execution_count": 1,
   "metadata": {},
   "outputs": [
    {
     "name": "stdout",
     "output_type": "stream",
     "text": [
      "Collecting highway-env\n",
      "  Downloading highway_env-1.10.1-py3-none-any.whl.metadata (16 kB)\n",
      "Collecting gymnasium>=1.0.0a2 (from highway-env)\n",
      "  Downloading gymnasium-1.2.0-py3-none-any.whl.metadata (9.9 kB)\n",
      "Collecting farama-notifications>=0.0.1 (from highway-env)\n",
      "  Downloading Farama_Notifications-0.0.4-py3-none-any.whl.metadata (558 bytes)\n",
      "Requirement already satisfied: numpy>=1.21.0 in /Users/azeez/miniforge3/lib/python3.10/site-packages (from highway-env) (2.2.6)\n",
      "Collecting pygame>=2.0.2 (from highway-env)\n",
      "  Downloading pygame-2.6.1-cp310-cp310-macosx_11_0_arm64.whl.metadata (12 kB)\n",
      "Requirement already satisfied: matplotlib in /Users/azeez/miniforge3/lib/python3.10/site-packages (from highway-env) (3.10.0)\n",
      "Requirement already satisfied: pandas in /Users/azeez/miniforge3/lib/python3.10/site-packages (from highway-env) (2.2.3)\n",
      "Requirement already satisfied: scipy in /Users/azeez/miniforge3/lib/python3.10/site-packages (from highway-env) (1.14.1)\n",
      "Requirement already satisfied: cloudpickle>=1.2.0 in /Users/azeez/miniforge3/lib/python3.10/site-packages (from gymnasium>=1.0.0a2->highway-env) (3.1.1)\n",
      "Requirement already satisfied: typing-extensions>=4.3.0 in /Users/azeez/miniforge3/lib/python3.10/site-packages (from gymnasium>=1.0.0a2->highway-env) (4.12.2)\n",
      "Requirement already satisfied: contourpy>=1.0.1 in /Users/azeez/miniforge3/lib/python3.10/site-packages (from matplotlib->highway-env) (1.3.1)\n",
      "Requirement already satisfied: cycler>=0.10 in /Users/azeez/miniforge3/lib/python3.10/site-packages (from matplotlib->highway-env) (0.12.1)\n",
      "Requirement already satisfied: fonttools>=4.22.0 in /Users/azeez/miniforge3/lib/python3.10/site-packages (from matplotlib->highway-env) (4.55.3)\n",
      "Requirement already satisfied: kiwisolver>=1.3.1 in /Users/azeez/miniforge3/lib/python3.10/site-packages (from matplotlib->highway-env) (1.4.7)\n",
      "Requirement already satisfied: packaging>=20.0 in /Users/azeez/miniforge3/lib/python3.10/site-packages (from matplotlib->highway-env) (24.0)\n",
      "Requirement already satisfied: pillow>=8 in /Users/azeez/miniforge3/lib/python3.10/site-packages (from matplotlib->highway-env) (11.0.0)\n",
      "Requirement already satisfied: pyparsing>=2.3.1 in /Users/azeez/miniforge3/lib/python3.10/site-packages (from matplotlib->highway-env) (3.2.0)\n",
      "Requirement already satisfied: python-dateutil>=2.7 in /Users/azeez/miniforge3/lib/python3.10/site-packages (from matplotlib->highway-env) (2.9.0.post0)\n",
      "Requirement already satisfied: pytz>=2020.1 in /Users/azeez/miniforge3/lib/python3.10/site-packages (from pandas->highway-env) (2024.1)\n",
      "Requirement already satisfied: tzdata>=2022.7 in /Users/azeez/miniforge3/lib/python3.10/site-packages (from pandas->highway-env) (2024.2)\n",
      "Requirement already satisfied: six>=1.5 in /Users/azeez/miniforge3/lib/python3.10/site-packages (from python-dateutil>=2.7->matplotlib->highway-env) (1.16.0)\n",
      "Downloading highway_env-1.10.1-py3-none-any.whl (104 kB)\n",
      "\u001b[2K   \u001b[90m━━━━━━━━━━━━━━━━━━━━━━━━━━━━━━━━━━━━━━━━\u001b[0m \u001b[32m105.0/105.0 kB\u001b[0m \u001b[31m1.1 MB/s\u001b[0m eta \u001b[36m0:00:00\u001b[0m \u001b[36m0:00:01\u001b[0m\n",
      "\u001b[?25hDownloading Farama_Notifications-0.0.4-py3-none-any.whl (2.5 kB)\n",
      "Downloading gymnasium-1.2.0-py3-none-any.whl (944 kB)\n",
      "\u001b[2K   \u001b[90m━━━━━━━━━━━━━━━━━━━━━━━━━━━━━━━━━━━━━━━━\u001b[0m \u001b[32m944.3/944.3 kB\u001b[0m \u001b[31m6.0 MB/s\u001b[0m eta \u001b[36m0:00:00\u001b[0m00:01\u001b[0m00:01\u001b[0m\n",
      "\u001b[?25hDownloading pygame-2.6.1-cp310-cp310-macosx_11_0_arm64.whl (12.4 MB)\n",
      "\u001b[2K   \u001b[90m━━━━━━━━━━━━━━━━━━━━━━━━━━━━━━━━━━━━━━━━\u001b[0m \u001b[32m12.4/12.4 MB\u001b[0m \u001b[31m7.0 MB/s\u001b[0m eta \u001b[36m0:00:00\u001b[0m00:01\u001b[0m00:01\u001b[0m\n",
      "\u001b[?25hInstalling collected packages: farama-notifications, pygame, gymnasium, highway-env\n",
      "Successfully installed farama-notifications-0.0.4 gymnasium-1.2.0 highway-env-1.10.1 pygame-2.6.1\n",
      "Collecting git+https://github.com/DLR-RM/stable-baselines3\n",
      "  Cloning https://github.com/DLR-RM/stable-baselines3 to /private/var/folders/dl/ms7s6rfs7mv0rpd5jy7c8h640000gn/T/pip-req-build-r6ia15m4\n",
      "  Running command git clone --filter=blob:none --quiet https://github.com/DLR-RM/stable-baselines3 /private/var/folders/dl/ms7s6rfs7mv0rpd5jy7c8h640000gn/T/pip-req-build-r6ia15m4\n",
      "  Resolved https://github.com/DLR-RM/stable-baselines3 to commit dd7f5bfe63631630463f2f9bcb4762e6c040de12\n",
      "  Installing build dependencies ... \u001b[?25l-"
     ]
    }
   ],
   "source": [
    "# Install environment and agent \n",
    "!pip install highway-env \n",
    "!pip install git+https://github.com/DLR-RM/stable-baselines3 \n",
    "\n",
    "# Environment \n",
    "import gymnasium as gym \n",
    "import highway_env \n",
    "\n",
    "# Agent \n",
    "from stable_baseline3 import DQN \n",
    "\n",
    "import sys \n",
    "from tqdm.notebook import trange \n",
    "!pip install tensorboardx gym pyvirtualdisplay \n",
    "!apt-get install -y xvfb ffmpeg \n",
    "!git clone https://github.com/Farama-Foundation/HighwayEnv.git 2> /dev/null \n",
    "sys.path.insert(0, '/content/HighwayEnv/scripts/')\n",
    "from utils import record_videos, show_video \n"
   ]
  },
  {
   "cell_type": "code",
   "execution_count": null,
   "metadata": {},
   "outputs": [],
   "source": []
  }
 ],
 "metadata": {
  "kernelspec": {
   "display_name": "base",
   "language": "python",
   "name": "python3"
  },
  "language_info": {
   "codemirror_mode": {
    "name": "ipython",
    "version": 3
   },
   "file_extension": ".py",
   "mimetype": "text/x-python",
   "name": "python",
   "nbconvert_exporter": "python",
   "pygments_lexer": "ipython3",
   "version": "3.10.14"
  }
 },
 "nbformat": 4,
 "nbformat_minor": 2
}
