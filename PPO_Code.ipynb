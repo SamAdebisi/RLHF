{
 "cells": [
  {
   "cell_type": "code",
   "execution_count": null,
   "metadata": {},
   "outputs": [],
   "source": [
    "# Install environment and agent\n",
    "!pip install highway-env\n",
    "\n",
    "!pip install git+https://github.com/DLR-RM/stable-baselines3\n",
    "\n",
    "# Environment\n",
    "import gymnasium as gym\n",
    "import highway_env\n",
    "\n",
    "# Agent\n",
    "from stable_baselines3 import PPO\n",
    "\n",
    "\n",
    "import sys\n",
    "from tqdm.notebook import trange\n",
    "!pip install tensorboardx gym pyvirtualdisplay\n",
    "!apt-get install -y xvfb ffmpeg\n",
    "!git clone https://github.com/Farama-Foundation/HighwayEnv.git 2> /dev/null\n",
    "sys.path.insert(0, '/content/HighwayEnv/scripts/')\n",
    "from utils import record_videos, show_videos "
   ]
  },
  {
   "cell_type": "code",
   "execution_count": null,
   "metadata": {},
   "outputs": [],
   "source": [
    "from stable_baselines3 import DQN\n",
    "import pprint\n",
    "from matplotlib import pyplot as plt\n",
    "import numpy as np "
   ]
  },
  {
   "cell_type": "code",
   "execution_count": null,
   "metadata": {},
   "outputs": [],
   "source": [
    "class MyHighwayEnv(gym.Env):\n",
    "    def __init__(self, vehicleCount=10):\n",
    "        super(MyHighwayEnv, self).__init__()\n",
    "        # base setting\n",
    "        self.vehicleCount = vehicleCount\n",
    "\n",
    "        # environment setting\n",
    "        self.config = {\n",
    "            \"observation\": {\n",
    "                \"type\": \"Kinematics\",\n",
    "                \"features\": [\"presence\", \"x\", \"y\", \"vx\", \"vy\"],\n",
    "                \"absolute\": True,\n",
    "                \"normalize\": True,\n",
    "                \"vehicles_count\": vehicleCount,\n",
    "                \"see_behind\": True,\n",
    "            },\n",
    "            \"action\": {\n",
    "                \"type\": \"DiscreteMetaAction\",\n",
    "                \"target_speeds\": np.linspace(0, 32, 9),\n",
    "            },\n",
    "            \"duration\": 40,\n",
    "            \"vehicles_density\": 2,\n",
    "            \"show_trajectories\": True,\n",
    "            \"render_agent\": True,\n",
    "        }\n",
    "        self.env = gym.make(\"highway-fast-v0\")\n",
    "        self.env.configure(self.config)\n",
    "        self.action_space = self.env.action_space\n",
    "        self.observation_space = gym.spaces.Box(\n",
    "            low=-np.inf,high=np.inf,shape=(10,5),dtype=np.float32\n",
    "        )\n",
    "\n",
    "    def step(self, action):\n",
    "        # Step the wrapped environment and capture all returned values\n",
    "        obs, ppo_reward, done, truncated, info = self.env.step(action)\n",
    "\n",
    "        return obs, ppo_reward, done, truncated, info\n",
    "\n",
    "    def reset(self, **kwargs):\n",
    "        obs = self.env.reset(**kwargs)\n",
    "        return obs  # Make sure to return the observation"
   ]
  },
  {
   "cell_type": "code",
   "execution_count": null,
   "metadata": {},
   "outputs": [],
   "source": []
  },
  {
   "cell_type": "code",
   "execution_count": null,
   "metadata": {},
   "outputs": [],
   "source": []
  },
  {
   "cell_type": "code",
   "execution_count": null,
   "metadata": {},
   "outputs": [],
   "source": []
  },
  {
   "cell_type": "code",
   "execution_count": null,
   "metadata": {},
   "outputs": [],
   "source": []
  },
  {
   "cell_type": "code",
   "execution_count": null,
   "metadata": {},
   "outputs": [],
   "source": []
  },
  {
   "cell_type": "code",
   "execution_count": null,
   "metadata": {},
   "outputs": [],
   "source": []
  },
  {
   "cell_type": "code",
   "execution_count": null,
   "metadata": {},
   "outputs": [],
   "source": []
  },
  {
   "cell_type": "code",
   "execution_count": null,
   "metadata": {},
   "outputs": [],
   "source": []
  },
  {
   "cell_type": "code",
   "execution_count": null,
   "metadata": {},
   "outputs": [],
   "source": []
  },
  {
   "cell_type": "code",
   "execution_count": null,
   "metadata": {},
   "outputs": [],
   "source": []
  },
  {
   "cell_type": "code",
   "execution_count": null,
   "metadata": {},
   "outputs": [],
   "source": []
  },
  {
   "cell_type": "code",
   "execution_count": null,
   "metadata": {},
   "outputs": [],
   "source": []
  },
  {
   "cell_type": "code",
   "execution_count": null,
   "metadata": {},
   "outputs": [],
   "source": []
  },
  {
   "cell_type": "code",
   "execution_count": null,
   "metadata": {},
   "outputs": [],
   "source": []
  },
  {
   "cell_type": "code",
   "execution_count": null,
   "metadata": {},
   "outputs": [],
   "source": []
  },
  {
   "cell_type": "code",
   "execution_count": null,
   "metadata": {},
   "outputs": [],
   "source": []
  },
  {
   "cell_type": "code",
   "execution_count": null,
   "metadata": {},
   "outputs": [],
   "source": []
  },
  {
   "cell_type": "code",
   "execution_count": null,
   "metadata": {},
   "outputs": [],
   "source": []
  },
  {
   "cell_type": "code",
   "execution_count": null,
   "metadata": {},
   "outputs": [],
   "source": []
  },
  {
   "cell_type": "code",
   "execution_count": null,
   "metadata": {},
   "outputs": [],
   "source": []
  },
  {
   "cell_type": "code",
   "execution_count": null,
   "metadata": {},
   "outputs": [],
   "source": []
  },
  {
   "cell_type": "code",
   "execution_count": null,
   "metadata": {},
   "outputs": [],
   "source": []
  }
 ],
 "metadata": {
  "language_info": {
   "name": "python"
  }
 },
 "nbformat": 4,
 "nbformat_minor": 2
}
